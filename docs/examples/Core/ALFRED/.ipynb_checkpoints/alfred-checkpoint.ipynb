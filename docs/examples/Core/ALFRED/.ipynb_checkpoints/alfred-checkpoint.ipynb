{
 "cells": [
  {
   "cell_type": "code",
   "execution_count": 1,
   "metadata": {},
   "outputs": [
    {
     "ename": "ModuleNotFoundError",
     "evalue": "No module named 'coreutils'",
     "output_type": "error",
     "traceback": [
      "\u001b[1;31m---------------------------------------------------------------------------\u001b[0m",
      "\u001b[1;31mModuleNotFoundError\u001b[0m                       Traceback (most recent call last)",
      "\u001b[1;32m<ipython-input-1-ed6f2b960969>\u001b[0m in \u001b[0;36m<module>\u001b[1;34m\u001b[0m\n\u001b[0;32m      7\u001b[0m \u001b[1;31m# add \"coreutils\" directories to path\u001b[0m\u001b[1;33m\u001b[0m\u001b[1;33m\u001b[0m\u001b[1;33m\u001b[0m\u001b[0m\n\u001b[0;32m      8\u001b[0m \u001b[0msys\u001b[0m\u001b[1;33m.\u001b[0m\u001b[0mpath\u001b[0m\u001b[1;33m.\u001b[0m\u001b[0mappend\u001b[0m\u001b[1;33m(\u001b[0m\u001b[0mos\u001b[0m\u001b[1;33m.\u001b[0m\u001b[0mpath\u001b[0m\u001b[1;33m.\u001b[0m\u001b[0mabspath\u001b[0m\u001b[1;33m(\u001b[0m\u001b[1;34m'../../../'\u001b[0m\u001b[1;33m)\u001b[0m\u001b[1;33m)\u001b[0m\u001b[1;33m\u001b[0m\u001b[1;33m\u001b[0m\u001b[0m\n\u001b[1;32m----> 9\u001b[1;33m \u001b[1;32mfrom\u001b[0m \u001b[0mcoreutils\u001b[0m\u001b[1;33m.\u001b[0m\u001b[0mcore\u001b[0m\u001b[1;33m.\u001b[0m\u001b[0mCore\u001b[0m \u001b[1;32mimport\u001b[0m \u001b[0mCore\u001b[0m\u001b[1;33m\u001b[0m\u001b[1;33m\u001b[0m\u001b[0m\n\u001b[0m\u001b[0;32m     10\u001b[0m \u001b[1;32mfrom\u001b[0m \u001b[0mcoreutils\u001b[0m\u001b[1;33m.\u001b[0m\u001b[0mcore\u001b[0m\u001b[1;33m.\u001b[0m\u001b[0mplot\u001b[0m \u001b[1;32mimport\u001b[0m \u001b[0mRadialPlot\u001b[0m\u001b[1;33m,\u001b[0m \u001b[0mAxialPlot\u001b[0m\u001b[1;33m\u001b[0m\u001b[1;33m\u001b[0m\u001b[0m\n\u001b[0;32m     11\u001b[0m \u001b[1;32mimport\u001b[0m \u001b[0mmatplotlib\u001b[0m \u001b[1;32mas\u001b[0m \u001b[0mmpl\u001b[0m\u001b[1;33m\u001b[0m\u001b[1;33m\u001b[0m\u001b[0m\n",
      "\u001b[1;31mModuleNotFoundError\u001b[0m: No module named 'coreutils'"
     ]
    }
   ],
   "source": [
    "# import external modules\n",
    "import sys\n",
    "import os\n",
    "import numpy as np\n",
    "import serpentTools\n",
    "from matplotlib import rc\n",
    "# add \"coreutils\" directories to path\n",
    "sys.path.append(os.path.abspath('../../../../../'))\n",
    "from coreutils.core.Core import Core\n",
    "from coreutils.core.plot import RadialPlot, AxialPlot\n",
    "import matplotlib as mpl\n",
    "mpl.rcParams['figure.dpi']= 200  # set dpi for increasing plot rendering quality\n",
    "\n",
    "rc('font', **{'family': 'sans-serif', 'sans-serif': ['Arial']})\n",
    "rc('text', usetex=True)\n",
    "\n",
    "# input file name and location\n",
    "try:\n",
    "    os.chdir(\"ALFRED\")\n",
    "except FileNotFoundError:\n",
    "    pass\n",
    "filepath = os.path.join(\"input.json\")\n",
    "alfred = Core(filepath)"
   ]
  },
  {
   "cell_type": "markdown",
   "metadata": {},
   "source": [
    "The content of the \"input.json\" file is the following:"
   ]
  },
  {
   "cell_type": "raw",
   "metadata": {},
   "source": [
    "{\n",
    "  \"filename\" : \"ALFRED_1_6.txt\",\n",
    "  \"pitch\" : 17.1,\n",
    "  \"rotation\" : 60,\n",
    "  \"assemblynames\" : [\"IF\", \"OF\", \"CR\", \"SR\", \"DR\", \"BA\", \"EL\"],\n",
    "  \"fren\" : true,\n",
    "  \"replace\" : {\n",
    "                \"SR\": [92, 326, 237, 3]\n",
    "              },\n",
    "  \"cuts\" : {\n",
    "              \"IF\" : [[\"IF_BOT_REF\", 0, 79], [\"IF_BOT_PLUG\", 79, 84],\n",
    "                      [\"IF_PLEN\", 84, 139], [\"IF_BOT_INS\", 139, 140],\n",
    "                      [\"INN_FUEL\", 140, 200], [\"IF_TOP_INS\", 200, 201],\n",
    "                      [\"IF_SPRING\", 201, 213], [\"IF_TOP_PLUG\", 213, 218],\n",
    "                      [\"IF_TOP_REF\", 218, 340]],\n",
    "              \"OF\" : [[\"OF_BOT_REF\", 0, 79], [\"OF_BOT_PLUG\", 79, 84],\n",
    "                      [\"OF_PLEN\", 84, 139], [\"OF_BOT_INS\", 139, 140],\n",
    "                      [\"OUT_FUEL\", 140, 200], [\"OF_TOP_INS\", 200, 201],\n",
    "                      [\"OF_SPRING\", 201, 213], [\"OF_TOP_PLUG\", 213, 218],\n",
    "                      [\"OF_TOP_REF\", 218, 340]],\n",
    "              \"CR\" : [[\"CR_BOT_REF\", 0, 62], [\"CR_BOT_PLUG\", 62, 67],\n",
    "                      [\"CR_BOT_INS\", 67, 68], [\"CR_ACT\", 68, 136],\n",
    "                      [\"CR_DUMM\", 136, 204], [\"CR_SPRING\", 204, 264],\n",
    "                      [\"CR_TOP_REF\", 264, 340]],\n",
    "              \"SR\" : [[\"SR_BOT_REF\", 0, 207], [\"SR_BOT_PLUG\", 207, 212],\n",
    "                      [\"SR_ACT\", 212, 236], [\"SR_TOP_INS\", 236, 237],\n",
    "                      [\"SR_SPRING\", 237, 307], [\"SR_TOP_REF\", 307, 340]],\n",
    "              \"DR\" : [[\"DR_BOT_REF\", 0, 79], [\"DR_BOT_PLUG\", 79, 84],\n",
    "                      [\"DR_DUMM\", 84, 201], [\"DR_SPRING\", 201, 213],\n",
    "                      [\"DR_TOP_PLUG\", 213, 218], [\"DR_TOP_REF\", 218, 340]],\n",
    "              \"BA\" : [[\"BA\", 0, 340]],\n",
    "              \"EL\" : [[\"ll\", 0, 340]]\n",
    "           },\n",
    "  \"mycuts\" : [0, 68, 84, 136, 140, 200, 212, 264, 296, 340],\n",
    "  \"config\" : {\n",
    "              \"5.4\" : {\n",
    "                      \"translate\" : {\n",
    "                                      \"which\" : [[92, 326], [237, 3]],\n",
    "                                      \"dz\" : [-68, -68]\n",
    "                                    },\n",
    "                       \"perturb\" : {\n",
    "                                      \"which\" : [[1, 2], [4, 5]],\n",
    "                                      \"what\" : [\"IF_BOT_REF\", \"IF_BOT_REF\"],\n",
    "                                      \"with\" : [\"OF_BOT_REF\", \"IF_TOP_REF\"]\n",
    "                                   }\n",
    "                    },\n",
    "              \"9\" : {\n",
    "                      \"perturb\" : {\n",
    "                                      \"which\" : [[80, 158], [4, 5]],\n",
    "                                      \"what\" : [\"IF_BOT_REF\", \"IF_TOP_REF\"],\n",
    "                                      \"with\" : [\"IF_TOP_REF\", \"IF_BOT_REF\"]\n",
    "                                  }\n",
    "                    }\n",
    "             }\n",
    "}\n"
   ]
  },
  {
   "cell_type": "code",
   "execution_count": null,
   "metadata": {
    "scrolled": false
   },
   "outputs": [],
   "source": [
    "# plot core radial configuration\n",
    "print(alfred.time)\n",
    "for t in alfred.time:\n",
    "    RadialPlot(alfred, time=t, label=True, fren=True)"
   ]
  },
  {
   "cell_type": "code",
   "execution_count": null,
   "metadata": {},
   "outputs": [],
   "source": [
    "# Do you want to save some core assemblies with the Serpent numbering?\n",
    "ass = np.arange(1,80)\n",
    "RadialPlot(alfred, which=ass, time=0, label=True, figname=\"alfred_t0_sextI_serpnum.png\",\n",
    "           fren=True, fontsize=8)"
   ]
  },
  {
   "cell_type": "code",
   "execution_count": null,
   "metadata": {
    "scrolled": false
   },
   "outputs": [],
   "source": [
    "# select assembly numbers (FRENETIC numeration) to be plotted\n",
    "ass = np.concatenate([np.arange(247, 235, -1), np.arange(1, 14)])\n",
    "\n",
    "# plot core Axial configuration\n",
    "for t in alfred.time:\n",
    "    AxialPlot(alfred, ass, time=t, fren=True, mycuts=True)"
   ]
  },
  {
   "cell_type": "code",
   "execution_count": null,
   "metadata": {
    "scrolled": false
   },
   "outputs": [],
   "source": [
    "# Do you want custom labels? Just define them using a python dictionary\n",
    "asslabel = alfred.assemblytypes\n",
    "print(asslabel)\n",
    "# plot with customised assembly labels\n",
    "RadialPlot(alfred, label=True, dictname=asslabel, time=0, fren=True)  # specify figname to save the figure"
   ]
  },
  {
   "cell_type": "code",
   "execution_count": null,
   "metadata": {
    "scrolled": false
   },
   "outputs": [],
   "source": [
    "# Do you want to print it to a file? You can do it\n",
    "# MODE 1 (Serpent-style)\n",
    "alfred.writecorelattice(fname=\"serpent_lattice.txt\", serpheader=True)\n",
    "# print file content\n",
    "f = open('serpent_lattice.txt', 'r')\n",
    "file = f.read()\n",
    "print(file)\n",
    "\n",
    "# MODE 2 (core flattened in a 1D array)\n",
    "alfred.writecorelattice(flatten=True)  # file saved with default name \"coremap.txt\""
   ]
  },
  {
   "cell_type": "code",
   "execution_count": null,
   "metadata": {},
   "outputs": [],
   "source": [
    "# Do you want to print assembly type and center coordinates?\n",
    "alfred.writecentermap()  # type, x [cm], y [cm]\n",
    "# print file content\n",
    "f = open('centermap.txt', 'r')\n",
    "file = f.read()\n",
    "print(file[0:100])"
   ]
  },
  {
   "cell_type": "code",
   "execution_count": null,
   "metadata": {},
   "outputs": [],
   "source": []
  }
 ],
 "metadata": {
  "kernelspec": {
   "display_name": "Python 3",
   "language": "python",
   "name": "python3"
  },
  "language_info": {
   "codemirror_mode": {
    "name": "ipython",
    "version": 3
   },
   "file_extension": ".py",
   "mimetype": "text/x-python",
   "name": "python",
   "nbconvert_exporter": "python",
   "pygments_lexer": "ipython3",
   "version": "3.7.9"
  }
 },
 "nbformat": 4,
 "nbformat_minor": 4
}
